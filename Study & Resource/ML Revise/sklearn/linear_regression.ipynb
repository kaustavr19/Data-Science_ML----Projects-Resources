{
  "nbformat": 4,
  "nbformat_minor": 0,
  "metadata": {
    "colab": {
      "name": "linear_regression.ipynb",
      "provenance": [],
      "authorship_tag": "ABX9TyNTE8xSzfkJhKB7N04IegGa",
      "include_colab_link": true
    },
    "kernelspec": {
      "name": "python3",
      "display_name": "Python 3"
    },
    "language_info": {
      "name": "python"
    }
  },
  "cells": [
    {
      "cell_type": "markdown",
      "metadata": {
        "id": "view-in-github",
        "colab_type": "text"
      },
      "source": [
        "<a href=\"https://colab.research.google.com/github/kaustavr19/Data-Science_ML----Projects-Resources/blob/main/Study%20%26%20Resource/ML%20Revise/sklearn/linear_regression.ipynb\" target=\"_parent\"><img src=\"https://colab.research.google.com/assets/colab-badge.svg\" alt=\"Open In Colab\"/></a>"
      ]
    },
    {
      "cell_type": "code",
      "execution_count": 1,
      "metadata": {
        "id": "l7iDbj0GQmnF"
      },
      "outputs": [],
      "source": [
        "from sklearn import datasets\n",
        "from sklearn import linear_model\n",
        "from sklearn.model_selection import train_test_split\n",
        "from matplotlib import pyplot as plt"
      ]
    },
    {
      "cell_type": "code",
      "source": [
        "boston = datasets.load_boston()"
      ],
      "metadata": {
        "colab": {
          "base_uri": "https://localhost:8080/"
        },
        "id": "6dYd2malTqA0",
        "outputId": "a4928e98-ee1b-4f91-e985-fc704dc49dfe"
      },
      "execution_count": 2,
      "outputs": [
        {
          "output_type": "stream",
          "name": "stderr",
          "text": [
            "/usr/local/lib/python3.7/dist-packages/sklearn/utils/deprecation.py:87: FutureWarning: Function load_boston is deprecated; `load_boston` is deprecated in 1.0 and will be removed in 1.2.\n",
            "\n",
            "    The Boston housing prices dataset has an ethical problem. You can refer to\n",
            "    the documentation of this function for further details.\n",
            "\n",
            "    The scikit-learn maintainers therefore strongly discourage the use of this\n",
            "    dataset unless the purpose of the code is to study and educate about\n",
            "    ethical issues in data science and machine learning.\n",
            "\n",
            "    In this special case, you can fetch the dataset from the original\n",
            "    source::\n",
            "\n",
            "        import pandas as pd\n",
            "        import numpy as np\n",
            "\n",
            "\n",
            "        data_url = \"http://lib.stat.cmu.edu/datasets/boston\"\n",
            "        raw_df = pd.read_csv(data_url, sep=\"\\s+\", skiprows=22, header=None)\n",
            "        data = np.hstack([raw_df.values[::2, :], raw_df.values[1::2, :2]])\n",
            "        target = raw_df.values[1::2, 2]\n",
            "\n",
            "    Alternative datasets include the California housing dataset (i.e.\n",
            "    :func:`~sklearn.datasets.fetch_california_housing`) and the Ames housing\n",
            "    dataset. You can load the datasets as follows::\n",
            "\n",
            "        from sklearn.datasets import fetch_california_housing\n",
            "        housing = fetch_california_housing()\n",
            "\n",
            "    for the California housing dataset and::\n",
            "\n",
            "        from sklearn.datasets import fetch_openml\n",
            "        housing = fetch_openml(name=\"house_prices\", as_frame=True)\n",
            "\n",
            "    for the Ames housing dataset.\n",
            "    \n",
            "  warnings.warn(msg, category=FutureWarning)\n"
          ]
        }
      ]
    },
    {
      "cell_type": "code",
      "source": [
        "#features/labels \n",
        "X = boston.data\n",
        "y = boston.target"
      ],
      "metadata": {
        "id": "CfktQHNAVwJj"
      },
      "execution_count": 3,
      "outputs": []
    },
    {
      "cell_type": "code",
      "source": [
        "print(\"X\")\n",
        "print(X)\n",
        "print(X.shape)\n",
        "print(\"y\")\n",
        "print(y)\n",
        "print(y.shape)"
      ],
      "metadata": {
        "colab": {
          "base_uri": "https://localhost:8080/"
        },
        "id": "NNSl0CGRV9RY",
        "outputId": "83e99f7d-5729-4d75-d275-95183fb051fa"
      },
      "execution_count": 4,
      "outputs": [
        {
          "output_type": "stream",
          "name": "stdout",
          "text": [
            "X\n",
            "[[6.3200e-03 1.8000e+01 2.3100e+00 ... 1.5300e+01 3.9690e+02 4.9800e+00]\n",
            " [2.7310e-02 0.0000e+00 7.0700e+00 ... 1.7800e+01 3.9690e+02 9.1400e+00]\n",
            " [2.7290e-02 0.0000e+00 7.0700e+00 ... 1.7800e+01 3.9283e+02 4.0300e+00]\n",
            " ...\n",
            " [6.0760e-02 0.0000e+00 1.1930e+01 ... 2.1000e+01 3.9690e+02 5.6400e+00]\n",
            " [1.0959e-01 0.0000e+00 1.1930e+01 ... 2.1000e+01 3.9345e+02 6.4800e+00]\n",
            " [4.7410e-02 0.0000e+00 1.1930e+01 ... 2.1000e+01 3.9690e+02 7.8800e+00]]\n",
            "(506, 13)\n",
            "y\n",
            "[24.  21.6 34.7 33.4 36.2 28.7 22.9 27.1 16.5 18.9 15.  18.9 21.7 20.4\n",
            " 18.2 19.9 23.1 17.5 20.2 18.2 13.6 19.6 15.2 14.5 15.6 13.9 16.6 14.8\n",
            " 18.4 21.  12.7 14.5 13.2 13.1 13.5 18.9 20.  21.  24.7 30.8 34.9 26.6\n",
            " 25.3 24.7 21.2 19.3 20.  16.6 14.4 19.4 19.7 20.5 25.  23.4 18.9 35.4\n",
            " 24.7 31.6 23.3 19.6 18.7 16.  22.2 25.  33.  23.5 19.4 22.  17.4 20.9\n",
            " 24.2 21.7 22.8 23.4 24.1 21.4 20.  20.8 21.2 20.3 28.  23.9 24.8 22.9\n",
            " 23.9 26.6 22.5 22.2 23.6 28.7 22.6 22.  22.9 25.  20.6 28.4 21.4 38.7\n",
            " 43.8 33.2 27.5 26.5 18.6 19.3 20.1 19.5 19.5 20.4 19.8 19.4 21.7 22.8\n",
            " 18.8 18.7 18.5 18.3 21.2 19.2 20.4 19.3 22.  20.3 20.5 17.3 18.8 21.4\n",
            " 15.7 16.2 18.  14.3 19.2 19.6 23.  18.4 15.6 18.1 17.4 17.1 13.3 17.8\n",
            " 14.  14.4 13.4 15.6 11.8 13.8 15.6 14.6 17.8 15.4 21.5 19.6 15.3 19.4\n",
            " 17.  15.6 13.1 41.3 24.3 23.3 27.  50.  50.  50.  22.7 25.  50.  23.8\n",
            " 23.8 22.3 17.4 19.1 23.1 23.6 22.6 29.4 23.2 24.6 29.9 37.2 39.8 36.2\n",
            " 37.9 32.5 26.4 29.6 50.  32.  29.8 34.9 37.  30.5 36.4 31.1 29.1 50.\n",
            " 33.3 30.3 34.6 34.9 32.9 24.1 42.3 48.5 50.  22.6 24.4 22.5 24.4 20.\n",
            " 21.7 19.3 22.4 28.1 23.7 25.  23.3 28.7 21.5 23.  26.7 21.7 27.5 30.1\n",
            " 44.8 50.  37.6 31.6 46.7 31.5 24.3 31.7 41.7 48.3 29.  24.  25.1 31.5\n",
            " 23.7 23.3 22.  20.1 22.2 23.7 17.6 18.5 24.3 20.5 24.5 26.2 24.4 24.8\n",
            " 29.6 42.8 21.9 20.9 44.  50.  36.  30.1 33.8 43.1 48.8 31.  36.5 22.8\n",
            " 30.7 50.  43.5 20.7 21.1 25.2 24.4 35.2 32.4 32.  33.2 33.1 29.1 35.1\n",
            " 45.4 35.4 46.  50.  32.2 22.  20.1 23.2 22.3 24.8 28.5 37.3 27.9 23.9\n",
            " 21.7 28.6 27.1 20.3 22.5 29.  24.8 22.  26.4 33.1 36.1 28.4 33.4 28.2\n",
            " 22.8 20.3 16.1 22.1 19.4 21.6 23.8 16.2 17.8 19.8 23.1 21.  23.8 23.1\n",
            " 20.4 18.5 25.  24.6 23.  22.2 19.3 22.6 19.8 17.1 19.4 22.2 20.7 21.1\n",
            " 19.5 18.5 20.6 19.  18.7 32.7 16.5 23.9 31.2 17.5 17.2 23.1 24.5 26.6\n",
            " 22.9 24.1 18.6 30.1 18.2 20.6 17.8 21.7 22.7 22.6 25.  19.9 20.8 16.8\n",
            " 21.9 27.5 21.9 23.1 50.  50.  50.  50.  50.  13.8 13.8 15.  13.9 13.3\n",
            " 13.1 10.2 10.4 10.9 11.3 12.3  8.8  7.2 10.5  7.4 10.2 11.5 15.1 23.2\n",
            "  9.7 13.8 12.7 13.1 12.5  8.5  5.   6.3  5.6  7.2 12.1  8.3  8.5  5.\n",
            " 11.9 27.9 17.2 27.5 15.  17.2 17.9 16.3  7.   7.2  7.5 10.4  8.8  8.4\n",
            " 16.7 14.2 20.8 13.4 11.7  8.3 10.2 10.9 11.   9.5 14.5 14.1 16.1 14.3\n",
            " 11.7 13.4  9.6  8.7  8.4 12.8 10.5 17.1 18.4 15.4 10.8 11.8 14.9 12.6\n",
            " 14.1 13.  13.4 15.2 16.1 17.8 14.9 14.1 12.7 13.5 14.9 20.  16.4 17.7\n",
            " 19.5 20.2 21.4 19.9 19.  19.1 19.1 20.1 19.9 19.6 23.2 29.8 13.8 13.3\n",
            " 16.7 12.  14.6 21.4 23.  23.7 25.  21.8 20.6 21.2 19.1 20.6 15.2  7.\n",
            "  8.1 13.6 20.1 21.8 24.5 23.1 19.7 18.3 21.2 17.5 16.8 22.4 20.6 23.9\n",
            " 22.  11.9]\n",
            "(506,)\n"
          ]
        }
      ]
    },
    {
      "cell_type": "code",
      "source": [
        "#algorithm\n",
        "lin_reg = linear_model.LinearRegression()"
      ],
      "metadata": {
        "id": "i22fK7odW7xI"
      },
      "execution_count": 5,
      "outputs": []
    },
    {
      "cell_type": "code",
      "source": [
        "plt.scatter(X.T[5], y)\n",
        "plt.show()"
      ],
      "metadata": {
        "colab": {
          "base_uri": "https://localhost:8080/",
          "height": 265
        },
        "id": "7qlRDXGKs2v4",
        "outputId": "ff5753bb-6a8e-4272-b9f6-57feab3f0f61"
      },
      "execution_count": 6,
      "outputs": [
        {
          "output_type": "display_data",
          "data": {
            "text/plain": [
              "<Figure size 432x288 with 1 Axes>"
            ],
            "image/png": "[encoded data removed]"
          },
          "metadata": {
            "needs_background": "light"
          }
        }
      ]
    },
    {
      "cell_type": "code",
      "source": [
        "X_train, X_test, y_train, y_test = train_test_split(X, y, test_size=0.2)"
      ],
      "metadata": {
        "id": "y4ClJMrQs7zS"
      },
      "execution_count": 7,
      "outputs": []
    },
    {
      "cell_type": "code",
      "source": [
        "#train\n",
        "model = lin_reg.fit(X_train, y_train)"
      ],
      "metadata": {
        "id": "Az-jLRImtQ8T"
      },
      "execution_count": 8,
      "outputs": []
    },
    {
      "cell_type": "code",
      "source": [
        "predictions = model.predict(X_test)\n",
        "print(\"predictions: \", predictions)\n",
        "print(\"R^2: \", lin_reg.score(X, y))\n",
        "print(\"coeff: \", lin_reg.coef_)\n",
        "print(\"intercept: \", lin_reg.intercept_)"
      ],
      "metadata": {
        "colab": {
          "base_uri": "https://localhost:8080/"
        },
        "id": "1act9YF3tt0r",
        "outputId": "e3b937d4-a270-4e71-dca5-d9d2e531003f"
      },
      "execution_count": 9,
      "outputs": [
        {
          "output_type": "stream",
          "name": "stdout",
          "text": [
            "predictions:  [16.50475652 14.10625829 28.22338546 31.28655675 16.83676487 19.3078467\n",
            " 26.51692979 27.99208181 38.54138794 24.78115469 24.90606656 21.99782472\n",
            " 21.65810279 15.84461357 20.87557448 20.6851723  39.74012527 20.24723057\n",
            "  5.92266035 32.00990047 11.2073389  15.20642239 39.44365161 18.87289889\n",
            " 21.33052865 11.91349597 13.79051793 17.60828374 24.65708984 24.84021129\n",
            " 36.90401902 26.1022564  19.96847589 24.48419992 17.28075153 16.98274575\n",
            " 25.44875467 16.1037151  23.20463769 23.78751898 19.20199709 22.77446193\n",
            "  5.26758315 17.29403022 19.70715583 30.91895552 36.49694424 21.00492318\n",
            " 22.09269703 21.64107959 31.06730157 32.54468576 17.61790272 13.24320835\n",
            " 13.49940048 -5.26378615 22.51439351 27.03294462 28.79927312 18.78004803\n",
            " 24.81790031 33.06459269 22.30004733 28.54884553  8.97777805 28.89930095\n",
            " 11.9722275  29.10022008 25.79943533 23.30629376 36.68319374  5.99636972\n",
            " 34.17754874 15.85309541 11.49180321 26.88768313 22.2234419  35.34263534\n",
            " 15.23080211 22.10822735 20.41913144 11.19542852 22.29827576 29.60287338\n",
            " 17.98009097 35.46503099 30.55104296 27.40550579 20.32183366 17.94855588\n",
            " 33.85846122 17.95636487 35.8236869  25.15172888 27.24448098 23.01778177\n",
            " 25.06502271 20.979692   23.04593498 19.31927352  6.35138253 19.71014931]\n",
            "R^2:  0.7379130660595592\n",
            "coeff:  [-1.21325403e-01  4.43513082e-02  7.78249349e-02  2.16887840e+00\n",
            " -1.81543851e+01  4.57343891e+00  1.18464395e-05 -1.43922974e+00\n",
            "  2.85603593e-01 -1.24919383e-02 -9.78436529e-01  9.72296641e-03\n",
            " -4.80909680e-01]\n",
            "intercept:  31.332067424946377\n"
          ]
        }
      ]
    },
    {
      "cell_type": "markdown",
      "source": [
        "###California Housing Dataset"
      ],
      "metadata": {
        "id": "DtByrUCNvJK1"
      }
    },
    {
      "cell_type": "code",
      "source": [
        "import pandas as pd\n",
        "from sklearn.datasets import fetch_california_housing\n",
        "from sklearn.model_selection import train_test_split\n",
        "\n",
        "cal_housing = fetch_california_housing()\n",
        "X = pd.DataFrame(cal_housing.data, columns = cal_housing.feature_names)\n",
        "y = cal_housing.target"
      ],
      "metadata": {
        "id": "IYh_oqovu2qo"
      },
      "execution_count": 10,
      "outputs": []
    },
    {
      "cell_type": "code",
      "source": [
        "X_train, X_test, y_train, y_test = train_test_split(X, y, test_size=0.2)"
      ],
      "metadata": {
        "id": "ppuxN0ehvSYi"
      },
      "execution_count": 11,
      "outputs": []
    },
    {
      "cell_type": "code",
      "source": [
        "model = lin_reg.fit(X_train, y_train)\n",
        "pred=model.predict(X_test)\n",
        "print(\"Predictions:\",pred)\n",
        "print(\"R^2 value: \", lin_reg.score(X,y))\n",
        "print(\"coeff:\", lin_reg.coef_)\n",
        "print(\"intercept:\",lin_reg.intercept_)"
      ],
      "metadata": {
        "colab": {
          "base_uri": "https://localhost:8080/"
        },
        "id": "SsQ4FiN9vS3P",
        "outputId": "9610de7d-320e-40e0-8920-841b9d75440b"
      },
      "execution_count": 13,
      "outputs": [
        {
          "output_type": "stream",
          "name": "stdout",
          "text": [
            "Predictions: [1.50010051 0.59182032 1.63410889 ... 1.64965794 0.58603658 1.73944979]\n",
            "R^2 value:  0.6057758604970608\n",
            "coeff: [ 4.31866715e-01  8.77783904e-03 -1.08164879e-01  6.04501708e-01\n",
            " -4.33161039e-06 -3.41044290e-03 -4.16042302e-01 -4.30549963e-01]\n",
            "intercept: -36.576419314284166\n"
          ]
        }
      ]
    },
    {
      "cell_type": "markdown",
      "source": [
        "####way2"
      ],
      "metadata": {
        "id": "rallDyGcvf1y"
      }
    },
    {
      "cell_type": "code",
      "source": [
        "cal_housing = fetch_california_housing(return_X_y=True)"
      ],
      "metadata": {
        "id": "x6BEEOonvUVc"
      },
      "execution_count": 14,
      "outputs": []
    },
    {
      "cell_type": "code",
      "source": [
        "X_train, X_test, y_train, y_test = train_test_split(X, y, test_size=0.2)"
      ],
      "metadata": {
        "id": "48AhP-5CvkKc"
      },
      "execution_count": 15,
      "outputs": []
    },
    {
      "cell_type": "code",
      "source": [
        "model = lin_reg.fit(X_train, y_train)\n",
        "pred=model.predict(X_test)\n",
        "print(\"Predictions:\",pred)\n",
        "print(\"R^2 value: \", lin_reg.score(X,y))\n",
        "print(\"coeff:\", lin_reg.coef_)\n",
        "print(\"intercept:\",lin_reg.intercept_)"
      ],
      "metadata": {
        "colab": {
          "base_uri": "https://localhost:8080/"
        },
        "id": "Rgn4MH40vlac",
        "outputId": "ceecbc84-8785-4d8f-9da6-3db91dae01ca"
      },
      "execution_count": 17,
      "outputs": [
        {
          "output_type": "stream",
          "name": "stdout",
          "text": [
            "Predictions: [2.62718457 2.44877992 2.28525973 ... 1.57767436 5.08196414 1.50432073]\n",
            "R^2 value:  0.6055813383806876\n",
            "coeff: [ 4.43970757e-01  9.15477446e-03 -1.20274959e-01  6.43893153e-01\n",
            " -7.59389798e-06 -3.50765101e-03 -4.09477939e-01 -4.21802417e-01]\n",
            "intercept: -35.78853480463482\n"
          ]
        }
      ]
    },
    {
      "cell_type": "code",
      "source": [
        ""
      ],
      "metadata": {
        "id": "krYoVbz4vmgD"
      },
      "execution_count": null,
      "outputs": []
    }
  ]
}